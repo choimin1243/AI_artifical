{
  "nbformat": 4,
  "nbformat_minor": 0,
  "metadata": {
    "colab": {
      "name": "Untitled27.ipynb",
      "provenance": [],
      "authorship_tag": "ABX9TyOOH452J18nc2J6jlyWuR/B",
      "include_colab_link": true
    },
    "kernelspec": {
      "name": "python3",
      "display_name": "Python 3"
    }
  },
  "cells": [
    {
      "cell_type": "markdown",
      "metadata": {
        "id": "view-in-github",
        "colab_type": "text"
      },
      "source": [
        "<a href=\"https://colab.research.google.com/github/choimin1243/AI_artifical/blob/master/%EB%8B%A4%ED%95%AD%ED%9A%8C%EA%B7%80.ipynb\" target=\"_parent\"><img src=\"https://colab.research.google.com/assets/colab-badge.svg\" alt=\"Open In Colab\"/></a>"
      ]
    },
    {
      "cell_type": "code",
      "metadata": {
        "id": "yA1S9Y7r4-Fq",
        "colab_type": "code",
        "colab": {
          "base_uri": "https://localhost:8080/",
          "height": 35
        },
        "outputId": "409fbce2-b535-4bc3-e46b-407652410cf5"
      },
      "source": [
        "# 필요한 라이브러리 import\n",
        "from sklearn import datasets\n",
        "from sklearn.preprocessing import PolynomialFeatures\n",
        "from sklearn.model_selection import train_test_split\n",
        "from sklearn.linear_model import LinearRegression\n",
        "from sklearn.metrics import mean_squared_error\n",
        "\n",
        "import pandas as pd  \n",
        "\n",
        "diabetes_dataset = datasets.load_diabetes()\n",
        "\n",
        "polynomial_transformer=PolynomialFeatures(2)\n",
        "\n",
        "polynomial_data=polynomial_transformer.fit_transform(diabetes_dataset.data)\n",
        "polynomial_feature_names=polynomial_transformer.get_feature_names(diabetes_dataset.feature_names)\n",
        "\n",
        "x=pd.DataFrame(polynomial_data,columns=polynomial_feature_names)\n",
        "\n",
        "y = pd.DataFrame(diabetes_dataset.target, columns=['diabetes'])\n",
        "\n",
        "\n",
        "x_train,x_test,y_train,y_test=train_test_split(x,y,test_size=0.2,random_state=5)\n",
        "\n",
        "linear_regression_model=LinearRegression()\n",
        "linear_regression_model.fit(x_train,y_train)\n",
        "\n",
        "y_test_predict=linear_regression_model.predict(x_test)\n",
        "\n",
        "\n",
        "\n",
        "\n",
        "mse = mean_squared_error(y_test, y_test_predict)\n",
        "mse ** 0.5"
      ],
      "execution_count": 1,
      "outputs": [
        {
          "output_type": "execute_result",
          "data": {
            "text/plain": [
              "57.877049027248574"
            ]
          },
          "metadata": {
            "tags": []
          },
          "execution_count": 1
        }
      ]
    }
  ]
}