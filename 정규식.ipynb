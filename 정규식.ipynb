{
  "nbformat": 4,
  "nbformat_minor": 0,
  "metadata": {
    "colab": {
      "name": "Untitled19.ipynb",
      "provenance": [],
      "authorship_tag": "ABX9TyN7Cb9pt0/Y+g17KFSZLXCk",
      "include_colab_link": true
    },
    "kernelspec": {
      "name": "python3",
      "display_name": "Python 3"
    }
  },
  "cells": [
    {
      "cell_type": "markdown",
      "metadata": {
        "id": "view-in-github",
        "colab_type": "text"
      },
      "source": [
        "<a href=\"https://colab.research.google.com/github/choimin1243/AI_artifical/blob/master/%EC%A0%95%EA%B7%9C%EC%8B%9D.ipynb\" target=\"_parent\"><img src=\"https://colab.research.google.com/assets/colab-badge.svg\" alt=\"Open In Colab\"/></a>"
      ]
    },
    {
      "cell_type": "code",
      "metadata": {
        "id": "BsS1nUKpcQKr",
        "colab_type": "code",
        "colab": {}
      },
      "source": [
        "import numpy as np\n",
        "\n",
        "def prediction(X, theta):\n",
        "    return np.matmul(X,theta)\n",
        "    \n",
        "\n",
        "def gradient_descent(X, theta, y, iterations, alpha):\n",
        "    \"\"\"다중 선형 회귀 경사 하강법을 구현한 함수\"\"\"\n",
        "    m = len(X)  # 입력 변수 개수 저장\n",
        "    \n",
        "    for _ in range(iterations):\n",
        "        error=prediction(X, theta)-y\n",
        "        theta=theta-alpha/m*(X.T@error)\n",
        "    return theta\n",
        "    \n",
        "\n",
        "# 입력 변수\n",
        "house_size = np.array([1.0, 1.5, 1.8, 5, 2.0, 2.5, 3.0, 3.5, 4.0, 5.0, 6.0, 7.0, 8.0, 8.5, 9.0, 10.0])  # 집 크기\n",
        "distance_from_station = np.array([5, 4.6, 4.2, 3.9, 3.9, 3.6, 3.5, 3.4, 2.9, 2.8, 2.7, 2.3, 2.0, 1.8, 1.5, 1.0])  # 지하철역으로부터의 거리 (km)\n",
        "number_of_rooms = np.array([1, 1, 1, 1, 2, 2, 2, 2, 3, 3, 3, 3, 4, 4, 4, 4])  # 방 수\n",
        "\n",
        "# 목표 변수\n",
        "house_price = np.array([3, 3.2, 3.6 , 8, 3.4, 4.5, 5, 5.8, 6, 6.5, 9, 9, 10, 12, 13, 15])  # 집 가격\n",
        "\n",
        "# 설계 행렬 X 정의\n",
        "X = np.array([\n",
        "    np.ones(16),\n",
        "    house_size,\n",
        "    distance_from_station,\n",
        "    number_of_rooms\n",
        "]).T\n",
        "\n",
        "# 입력 변수 y 정의\n",
        "y = house_price\n",
        "\n",
        "# 파라미터 theta 초기화\n",
        "theta = np.array([0, 0, 0, 0])\n",
        "\n",
        "# 학습률 0.01로 100번 경사 하강\n",
        "theta = gradient_descent(X, theta, y, 100, 0.01)\n",
        "\n",
        "theta"
      ],
      "execution_count": null,
      "outputs": []
    },
    {
      "cell_type": "code",
      "metadata": {
        "id": "cPHTvobkcjtq",
        "colab_type": "code",
        "colab": {}
      },
      "source": [
        ""
      ],
      "execution_count": null,
      "outputs": []
    }
  ]
}