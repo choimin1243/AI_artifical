{
  "nbformat": 4,
  "nbformat_minor": 0,
  "metadata": {
    "colab": {
      "name": "Untitled21.ipynb",
      "provenance": [],
      "authorship_tag": "ABX9TyMsgRe66QX9yGvkCs3T5Cr9",
      "include_colab_link": true
    },
    "kernelspec": {
      "name": "python3",
      "display_name": "Python 3"
    }
  },
  "cells": [
    {
      "cell_type": "markdown",
      "metadata": {
        "id": "view-in-github",
        "colab_type": "text"
      },
      "source": [
        "<a href=\"https://colab.research.google.com/github/choimin1243/AI_artifical/blob/master/%EC%82%AC%EC%9D%B4%ED%82%B7%EB%9F%B0%20%EB%AA%A8%EB%8D%B8%EC%82%AC%EC%9A%A9.ipynb\" target=\"_parent\"><img src=\"https://colab.research.google.com/assets/colab-badge.svg\" alt=\"Open In Colab\"/></a>"
      ]
    },
    {
      "cell_type": "code",
      "metadata": {
        "id": "Obaha0uxroUJ",
        "colab_type": "code",
        "colab": {
          "base_uri": "https://localhost:8080/",
          "height": 34
        },
        "outputId": "3f091247-5f2c-4a68-ce8f-aa9fa68ab344"
      },
      "source": [
        "# 필요한 라이브러리 import\n",
        "from sklearn import datasets\n",
        "from sklearn.model_selection import train_test_split\n",
        "from sklearn.linear_model import LinearRegression\n",
        "from sklearn.metrics import mean_squared_error\n",
        "\n",
        "import pandas as pd  \n",
        "\n",
        "# 당뇨병 데이터 갖고 오기\n",
        "diabetes_dataset = datasets.load_diabetes()\n",
        "\n",
        "# 입력 변수를 사용하기 편하게 pandas dataframe으로 변환\n",
        "X = pd.DataFrame(diabetes_dataset.data, columns=diabetes_dataset.feature_names)\n",
        "\n",
        "# 목표 변수를 사용하기 편하게 pandas dataframe으로 변환\n",
        "Y = pd.DataFrame(diabetes_dataset.target, columns=['diabetes'])\n",
        "\n",
        "# 코드를 쓰세요\n",
        "\n",
        "x_train,x_test,y_train,y_test=train_test_split(X,Y,test_size=0.2,random_state=5)\n",
        "\n",
        "model=LinearRegression()\n",
        "model.fit(x_train,y_train)\n",
        "y_test_predict=model.predict(x_test)\n",
        "# 평균 제곱 오차의 루트를 통해서 테스트 데이터에서의 모델 성능 판단\n",
        "mse = mean_squared_error(y_test, y_test_predict)\n",
        "\n",
        "mse ** 0.5"
      ],
      "execution_count": 2,
      "outputs": [
        {
          "output_type": "execute_result",
          "data": {
            "text/plain": [
              "54.60389611984442"
            ]
          },
          "metadata": {
            "tags": []
          },
          "execution_count": 2
        }
      ]
    }
  ]
}