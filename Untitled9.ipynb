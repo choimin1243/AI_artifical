{
  "nbformat": 4,
  "nbformat_minor": 0,
  "metadata": {
    "colab": {
      "name": "Untitled9.ipynb",
      "provenance": [],
      "mount_file_id": "1zMpIX-ZtojxijjHVqmYGoBh6GCOGs2QZ",
      "authorship_tag": "ABX9TyMDApQXU466zptQw3GmLuOZ",
      "include_colab_link": true
    },
    "kernelspec": {
      "name": "python3",
      "display_name": "Python 3"
    }
  },
  "cells": [
    {
      "cell_type": "markdown",
      "metadata": {
        "id": "view-in-github",
        "colab_type": "text"
      },
      "source": [
        "<a href=\"https://colab.research.google.com/github/choimin1243/AI_artifical/blob/master/Untitled9.ipynb\" target=\"_parent\"><img src=\"https://colab.research.google.com/assets/colab-badge.svg\" alt=\"Open In Colab\"/></a>"
      ]
    },
    {
      "cell_type": "code",
      "metadata": {
        "id": "e9vQmJWvS9j3",
        "colab_type": "code",
        "colab": {
          "base_uri": "https://localhost:8080/",
          "height": 244
        },
        "outputId": "1dd5d2cf-2b38-4877-b83a-96ad261971ba"
      },
      "source": [
        "from bs4 import BeautifulSoup as bs\n",
        "from urllib.request import urlopen\n",
        "from urllib.parse import quote_plus\n",
        " \n",
        "baseUrl = 'https://search.naver.com/search.naver?where=image&sm=tab_jum&query='\n",
        "plusUrl = input('검색어 입력: ') \n",
        "crawl_num = int(input('크롤링할 갯수 입력(최대 50개): '))\n",
        " \n",
        "url = baseUrl + quote_plus(plusUrl) # 한글 검색 자동 변환\n",
        "html = urlopen(url)\n",
        "soup = bs(html, \"html.parser\")\n",
        "img = soup.find_all(class_='_img')\n",
        " \n",
        "n = 1\n",
        "for i in img:\n",
        "    print(n)\n",
        "    imgUrl = i['data-source']\n",
        "    with urlopen(imgUrl) as f:\n",
        "        with open('drive/My Drive/junggook/img' + str(n)+'.jpg','wb') as h: # w - write b - binary\n",
        "            img = f.read()\n",
        "            h.write(img)\n",
        "    n += 1\n",
        "    if n > crawl_num:\n",
        "        break\n",
        "    \n",
        "    \n",
        "print('Image Crawling is done.')\n"
      ],
      "execution_count": 6,
      "outputs": [
        {
          "output_type": "stream",
          "text": [
            "검색어 입력: 방탄정국\n",
            "크롤링할 갯수 입력(최대 50개): 10\n",
            "1\n",
            "2\n",
            "3\n",
            "4\n",
            "5\n",
            "6\n",
            "7\n",
            "8\n",
            "9\n",
            "10\n",
            "Image Crawling is done.\n"
          ],
          "name": "stdout"
        }
      ]
    },
    {
      "cell_type": "markdown",
      "metadata": {
        "id": "0prjenv4TFkT",
        "colab_type": "text"
      },
      "source": [
        "# 새 섹션"
      ]
    }
  ]
}