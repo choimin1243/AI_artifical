{
  "nbformat": 4,
  "nbformat_minor": 0,
  "metadata": {
    "colab": {
      "name": "Untitled28.ipynb",
      "provenance": [],
      "authorship_tag": "ABX9TyMowH6IzDnmlhKiTCOjteGK",
      "include_colab_link": true
    },
    "kernelspec": {
      "name": "python3",
      "display_name": "Python 3"
    }
  },
  "cells": [
    {
      "cell_type": "markdown",
      "metadata": {
        "id": "view-in-github",
        "colab_type": "text"
      },
      "source": [
        "<a href=\"https://colab.research.google.com/github/choimin1243/AI_artifical/blob/master/sigmoid.ipynb\" target=\"_parent\"><img src=\"https://colab.research.google.com/assets/colab-badge.svg\" alt=\"Open In Colab\"/></a>"
      ]
    },
    {
      "cell_type": "code",
      "metadata": {
        "id": "nrWXTKexD_ps",
        "colab_type": "code",
        "colab": {
          "base_uri": "https://localhost:8080/",
          "height": 84
        },
        "outputId": "19efc6a3-b68d-43ee-934d-b6a0d9232b9b"
      },
      "source": [
        "import numpy as np\n",
        "\n",
        "def sigmoid(x):\n",
        "    \"\"\"시그모이드 함수\"\"\"\n",
        "    return 1 / (1 + np.exp(-x))\n",
        "    \n",
        "\n",
        "def prediction(X, theta):\n",
        "  return sigmoid(X@theta)\n",
        "\n",
        "    \n",
        "\n",
        "# 입력 변수\n",
        "hours_studied = np.array([0.2, 0.3, 0.7, 1, 1.3, 1.8, 2, 2.1, 2.2, 3, 4, 4.2, 4, 4.7, 5.0, 5.9])  # 공부 시간 (단위: 100시간)\n",
        "gpa_rank = np.array([0.9, 0.95, 0.8, 0.82, 0.7, 0.6, 0.55, 0.67, 0.4, 0.3, 0.2, 0.2, 0.15, 0.18, 0.15, 0.05]) # 학년 내신 (백분률)\n",
        "number_of_tries = np.array([1, 2, 2, 2, 4, 2, 2, 2, 3, 3, 3, 3, 2, 4, 1, 2])  # 시험 응시 횟수\n",
        "\n",
        "# 설계 행렬 X 정의\n",
        "X = np.array([\n",
        "    np.ones(16),\n",
        "    hours_studied,\n",
        "    gpa_rank,\n",
        "    number_of_tries\n",
        "]).T\n",
        "\n",
        "# 파라미터 theta 정의\n",
        "theta = [0.5, 0.3, -2, 0.2]  \n",
        "\n",
        "prediction(X, theta)\n",
        "\n"
      ],
      "execution_count": 5,
      "outputs": [
        {
          "output_type": "execute_result",
          "data": {
            "text/plain": [
              "array([0.26114999, 0.28699984, 0.37989357, 0.39174097, 0.57199613,\n",
              "       0.55971365, 0.59868766, 0.54735762, 0.72312181, 0.80218389,\n",
              "       0.86989153, 0.87653295, 0.85814894, 0.91293423, 0.86989153,\n",
              "       0.9289057 ])"
            ]
          },
          "metadata": {
            "tags": []
          },
          "execution_count": 5
        }
      ]
    },
    {
      "cell_type": "code",
      "metadata": {
        "id": "ER9LfIRoE6qa",
        "colab_type": "code",
        "colab": {
          "base_uri": "https://localhost:8080/",
          "height": 286
        },
        "outputId": "d6173d0a-4cb4-43e2-c234-fbded5388e0d"
      },
      "source": [
        ""
      ],
      "execution_count": 3,
      "outputs": [
        {
          "output_type": "execute_result",
          "data": {
            "text/plain": [
              "array([[1.  , 0.2 , 0.9 , 1.  ],\n",
              "       [1.  , 0.3 , 0.95, 2.  ],\n",
              "       [1.  , 0.7 , 0.8 , 2.  ],\n",
              "       [1.  , 1.  , 0.82, 2.  ],\n",
              "       [1.  , 1.3 , 0.7 , 4.  ],\n",
              "       [1.  , 1.8 , 0.6 , 2.  ],\n",
              "       [1.  , 2.  , 0.55, 2.  ],\n",
              "       [1.  , 2.1 , 0.67, 2.  ],\n",
              "       [1.  , 2.2 , 0.4 , 3.  ],\n",
              "       [1.  , 3.  , 0.3 , 3.  ],\n",
              "       [1.  , 4.  , 0.2 , 3.  ],\n",
              "       [1.  , 4.2 , 0.2 , 3.  ],\n",
              "       [1.  , 4.  , 0.15, 2.  ],\n",
              "       [1.  , 4.7 , 0.18, 4.  ],\n",
              "       [1.  , 5.  , 0.15, 1.  ],\n",
              "       [1.  , 5.9 , 0.05, 2.  ]])"
            ]
          },
          "metadata": {
            "tags": []
          },
          "execution_count": 3
        }
      ]
    }
  ]
}